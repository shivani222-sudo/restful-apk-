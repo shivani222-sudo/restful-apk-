{
  "cells": [
    {
      "cell_type": "markdown",
      "metadata": {
        "id": "cKDbun6Vybaf"
      },
      "source": [
        "THEORY QUESTIONS\n",
        "1. What is a RESTful API?\n",
        "\n",
        "A RESTful API is an API that follows the REST (Representational State Transfer) architectural style.It uses HTTP as the transport. It treats everything as a resource (identified by URLs). It uses standard HTTP methods (GET, POST, PUT, DELETE).\n",
        "\n",
        "2. Explain the concept of API specification?\n",
        "\n",
        "An API specification is a formal description of how the API behaves — endpoints, request/response formats, authentication, status codes, etc.\n",
        "Examples: OpenAPI/Swagger.\n",
        "It acts as a contract between backend developers and frontend/clients.\n",
        "\n",
        "3. What is Flask, and why is it popular for building APIs?\n",
        "\n",
        "Flask is a micro web framework for Python.\n",
        "\n",
        "It minimalistic, but extensible with many plugins.\n",
        "\n",
        "It is Easy to learn, quick to prototype.\n",
        "\n",
        "Great for small to medium REST APIs.\n",
        "\n",
        "4. What is routing in Flask?\n",
        "\n",
        "Routing = mapping URLs to Python functions.\n",
        "Example:\n",
        "\n",
        "@app.route('/hello')\n",
        "\n",
        "def hello():\n",
        "    return 'Hello!'\n",
        "\n",
        "5. How do you create a simple Flask application?\n",
        "\n",
        "from flask import Flask\n",
        "\n",
        "app = Flask(__name__)\n",
        "\n",
        "@app.route('/')\n",
        "def home():\n",
        "    return 'Hello, World!'\n",
        "\n",
        "if __name__ == '__main__':\n",
        "    app.run(debug=True)\n",
        "\n",
        "6. What are HTTP methods used in RESTful APIs?\n",
        "\n",
        "GET – fetch data\n",
        "\n",
        "POST – create data\n",
        "\n",
        "PUT/PATCH – update data\n",
        "\n",
        "DELETE – delete data\n",
        "\n",
        "7. What is the purpose of the @app.route() decorator in Flask?\n",
        "\n",
        "The @app.route() decorator:\n",
        "\n",
        "Binds URLs to functions: Maps specific URLs to Python functions\n",
        "\n",
        "Defines HTTP methods: Specifies which HTTP methods are allowed\n",
        "\n",
        "Captures URL parameters: Extracts dynamic parts of URLs\n",
        "\n",
        "Sets route options: Configures additional routing behavior\n",
        "\n",
        "8. What is the difference between GET and POST HTTP methods?\n",
        "\n",
        "GET sends data in the URL (query string). Used for retrieving data.\n",
        "\n",
        "POST sends data in the body of the request. Used for creating or submitting forms.\n",
        "\n",
        "9. How do you handle errors in Flask APIs?\n",
        "\n",
        "Flask lets you handle errors gracefully using error handlers or by returning appropriate status codes in your responses.\n",
        "\n",
        "Use @app.errorhandler(): You can register a handler for specific exceptions or HTTP error codes (like 404, 500).\n",
        "\n",
        "10. How do you connect Flask to a SQL database?\n",
        "\n",
        "There are two main ways:\n",
        "\n",
        "Using a Database Driver directly\n",
        "\n",
        "Use the driver in your Flask routes to open connections, execute SQL queries, and close connections.\n",
        "\n",
        "Using an ORM (like SQLAlchemy)\n",
        "\n",
        "The most common approach.\n",
        "\n",
        "11. What is the role of Flask-SQLAlchemy?\n",
        "\n",
        "Flask-SQLAlchemy is an extension that adds SQLAlchemy support to Flask:\n",
        "Key Features:\n",
        "\n",
        "ORM (Object-Relational Mapping): Work with database records as Python objects\n",
        "Database abstraction: Works with multiple database engines\n",
        "Migration support: Database schema versioning\n",
        "Query builder: Intuitive query interface\n",
        "Relationship mapping: Handle foreign keys and relationships\n",
        "\n",
        "12.  What are Flask blueprints, and how are they useful?\n",
        "\n",
        "Blueprints allow you to organize routes and logic into reusable modules, especially in large apps. You register them with the main app.\n",
        "\n",
        "13. What is the purpose of Flask's request object?\n",
        "\n",
        "It holds data about the incoming HTTP request:\n",
        "\n",
        "URL parameters (request.args)\n",
        "\n",
        "JSON body (request.get_json())\n",
        "\n",
        "Form data (request.form)\n",
        "\n",
        "Headers, cookies, etc.\n",
        "\n",
        "14. How do you create a RESTful API endpoint using Flask?\n",
        "\n",
        "A RESTful API endpoint is created by defining a Flask route with the desired URL path and HTTP methods (GET, POST, PUT, DELETE). The function linked to the route handles the request and returns a JSON response.\n",
        "\n",
        "15.  What is the purpose of Flask's jsonify() function?\n",
        "\n",
        "jsonify() converts Python dictionaries, lists or other serializable objects into a proper JSON HTTP response and automatically sets the header Content-Type: application/json. It saves you from manually calling json.dumps() and setting headers yourself.\n",
        "\n",
        "16. Explain Flask’s url_for() function?\n",
        "\n",
        "url_for() dynamically builds URLs for a given view (function) name and optional parameters. Instead of hard-coding paths, you generate them, which makes refactoring and versioning routes easier.\n",
        "\n",
        "17. How does Flask handle static files (CSS, JavaScript, etc.)?\n",
        "\n",
        "Flask automatically serves files placed in a folder named static/ at the app’s root. You reference them in templates using url_for('static', filename='style.css'). By default they are served under the /static URL path.\n",
        "\n",
        "18. What is an API specification, and how does it help in building a Flask API?\n",
        "\n",
        "An API specification (like OpenAPI/Swagger) is a formal document describing all endpoints, methods, request parameters, response formats, and status codes. It acts as a contract between back-end developers, front-end developers, and API consumers. This ensures consistency, easier documentation, and automatic client generation.\n",
        "\n",
        "19. What are HTTP status codes, and why are they important in a Flask API?\n",
        "\n",
        "HTTP status codes are numeric codes (200, 404, 500…) returned with responses. They tell the client the result of the request\n",
        "\n",
        "20. How do you handle POST requests in Flask?\n",
        "\n",
        "In Flask, POST requests are handled by defining a route with methods=['POST'] and then accessing the submitted data through the request object (e.g., request.form or request.get_json()).\n",
        "\n",
        "21. How would you secure a Flask API?\n",
        "\n",
        "Use authentication and authorization (API keys, JWT, OAuth).\n",
        "\n",
        "Serve only over HTTPS.\n",
        "\n",
        "Validate and sanitize input.\n",
        "\n",
        "Rate-limit requests to prevent abuse.\n",
        "\n",
        "Hide secrets in environment variables.\n",
        "\n",
        "22. What is the significance of the Flask-RESTful extension?\n",
        "\n",
        "Flask-RESTful provides higher-level abstractions for building REST APIs:\n",
        "\n",
        "You define resources as classes (Resource) with methods like get(), post().\n",
        "\n",
        "Automatic argument parsing and input validation.\n",
        "\n",
        "Cleaner, more maintainable code for large APIs.\n",
        "\n",
        "23. What is the role of Flask’s session object?\n",
        "\n",
        "The session object stores data on a per-client basis (in signed cookies by default). It’s used to remember information between requests — e.g., user login state, preferences, CSRF tokens. Because it’s signed, clients cannot modify it without your secret key."
      ]
    },
    {
      "cell_type": "code",
      "execution_count": null,
      "metadata": {
        "colab": {
          "background_save": true,
          "base_uri": "https://localhost:8080/"
        },
        "id": "1QtvAKKr6x6f",
        "outputId": "a0ca063b-ac87-44e6-ba65-9532090275e0"
      },
      "outputs": [
        {
          "name": "stdout",
          "output_type": "stream",
          "text": [
            " * Serving Flask app '__main__'\n",
            " * Debug mode: off\n"
          ]
        },
        {
          "name": "stderr",
          "output_type": "stream",
          "text": [
            "INFO:werkzeug:\u001b[31m\u001b[1mWARNING: This is a development server. Do not use it in a production deployment. Use a production WSGI server instead.\u001b[0m\n",
            " * Running on all addresses (0.0.0.0)\n",
            " * Running on http://127.0.0.1:5000\n",
            " * Running on http://172.28.0.12:5000\n",
            "INFO:werkzeug:\u001b[33mPress CTRL+C to quit\u001b[0m\n"
          ]
        }
      ],
      "source": [
        "# PACTICAL QUESTIONS\n",
        "# 1.How do you create a basic Flask application?\n",
        "\n",
        "from flask import Flask\n",
        "\n",
        "app = Flask(__name__)\n",
        "\n",
        "@app.route('/')\n",
        "def hello_world():\n",
        "    return 'Hello World!!'\n",
        "\n",
        "if __name__==\"__main__\":\n",
        "    app.run(host=\"0.0.0.0\")"
      ]
    },
    {
      "cell_type": "code",
      "execution_count": null,
      "metadata": {
        "colab": {
          "base_uri": "https://localhost:8080/"
        },
        "id": "5S11aWxT7dzm",
        "outputId": "784a3001-2a99-4d1a-c15a-789e23e15781"
      },
      "outputs": [
        {
          "name": "stdout",
          "output_type": "stream",
          "text": [
            " * Serving Flask app '__main__'\n",
            " * Debug mode: on\n"
          ]
        },
        {
          "name": "stderr",
          "output_type": "stream",
          "text": [
            "INFO:werkzeug:\u001b[31m\u001b[1mWARNING: This is a development server. Do not use it in a production deployment. Use a production WSGI server instead.\u001b[0m\n",
            " * Running on http://127.0.0.1:5000\n",
            "INFO:werkzeug:\u001b[33mPress CTRL+C to quit\u001b[0m\n",
            "INFO:werkzeug: * Restarting with watchdog (inotify)\n"
          ]
        }
      ],
      "source": [
        "# 2.How do you serve static files like images or CSS in Flask?\n",
        "\n",
        "from flask import Flask, render_template\n",
        "\n",
        "app = Flask(__name__)\n",
        "\n",
        "@app.route('/')\n",
        "def index():\n",
        "    return render_template('index.html')\n",
        "\n",
        "if __name__ == '__main__':\n",
        "    app.run(debug=True)"
      ]
    },
    {
      "cell_type": "code",
      "execution_count": null,
      "metadata": {
        "colab": {
          "base_uri": "https://localhost:8080/",
          "height": 106
        },
        "id": "fr30lawi_eGp",
        "outputId": "8af1a445-3ac7-46bd-dce2-1a2b87eaeb90"
      },
      "outputs": [
        {
          "ename": "SyntaxError",
          "evalue": "incomplete input (ipython-input-1840838562.py, line 9)",
          "output_type": "error",
          "traceback": [
            "\u001b[0;36m  File \u001b[0;32m\"/tmp/ipython-input-1840838562.py\"\u001b[0;36m, line \u001b[0;32m9\u001b[0m\n\u001b[0;31m    if request.method == 'POST':\u001b[0m\n\u001b[0m                                ^\u001b[0m\n\u001b[0;31mSyntaxError\u001b[0m\u001b[0;31m:\u001b[0m incomplete input\n"
          ]
        }
      ],
      "source": [
        "# 3. How do you define different routes with different HTTP methods in Flask\n",
        "from flask import Flask, request\n",
        "\n",
        "app = Flask(__name__)\n",
        "\n",
        "@app.route('/login', methods=['GET', 'POST'])\n",
        "def login():\n",
        "    if request.method == 'POST':\n",
        "        return \"You sent a POST request!\"\n",
        "    else:\n",
        "        return \"This is the login page (GET request).\"\n",
        "\n",
        "if __name__ == '__main__':\n",
        "    app.run(debug=True)"
      ]
    },
    {
      "cell_type": "code",
      "execution_count": null,
      "metadata": {
        "colab": {
          "background_save": true,
          "base_uri": "https://localhost:8080/"
        },
        "id": "lBNV-XKjB1bw",
        "outputId": "ab17f6d0-0d22-4ec2-8979-71108073618f"
      },
      "outputs": [
        {
          "metadata": {
            "tags": null
          },
          "name": "stdout",
          "output_type": "stream",
          "text": [
            " * Serving Flask app '__main__'\n",
            " * Debug mode: on\n"
          ]
        },
        {
          "metadata": {
            "tags": null
          },
          "name": "stderr",
          "output_type": "stream",
          "text": [
            "INFO:werkzeug:\u001b[31m\u001b[1mWARNING: This is a development server. Do not use it in a production deployment. Use a production WSGI server instead.\u001b[0m\n",
            " * Running on http://127.0.0.1:5000\n",
            "INFO:werkzeug:\u001b[33mPress CTRL+C to quit\u001b[0m\n",
            "INFO:werkzeug: * Restarting with watchdog (inotify)\n"
          ]
        }
      ],
      "source": [
        "# 4. How do you render HTML templates in Flask?\n",
        "\n",
        "from flask import Flask, render_template\n",
        "\n",
        "app = Flask(__name__)\n",
        "\n",
        "@app.route('/')\n",
        "def index():\n",
        "    return render_template('index.html')\n",
        "\n",
        "if __name__ == '__main__':\n",
        "    app.run(debug=True)"
      ]
    },
    {
      "cell_type": "code",
      "execution_count": null,
      "metadata": {
        "id": "Gprk8EptGNgO"
      },
      "outputs": [],
      "source": [
        "# 5. How can you generate URLs for routes in Flask using url_for?\n",
        "\n",
        "from flask import Flask, url_for\n",
        "\n",
        "app = Flask(__name__)\n",
        "\n",
        "@app.route('/')\n",
        "def index():\n",
        "    return 'This is the home page.'\n",
        "\n",
        "@app.route('/about')\n",
        "def about():\n",
        "    return 'This is the about page.'"
      ]
    },
    {
      "cell_type": "code",
      "execution_count": null,
      "metadata": {
        "id": "Dw3WDS24GvNj"
      },
      "outputs": [],
      "source": [
        "# 6. How do you handle forms in Flask?\n",
        "\n",
        "from flask import Flask, render_template, request\n",
        "\n",
        "app = Flask(__name__)\n",
        "\n",
        "@app.route('/')\n",
        "def index():\n",
        "    return render_template('index.html')"
      ]
    },
    {
      "cell_type": "code",
      "execution_count": null,
      "metadata": {
        "id": "VykZnfpdHDnG"
      },
      "outputs": [],
      "source": [
        "# 7. How can you validate form data in Flask?\n",
        "\n",
        "from flask import Flask, request, render_template\n",
        "\n",
        "app = Flask(__name__)\n",
        "\n",
        "@app.route('/register', methods=['GET', 'POST'])\n",
        "def register():\n",
        "    if request.method == 'POST':\n",
        "        username = request.form.get('username')\n",
        "        email = request.form.get('email')\n",
        "\n",
        "    return render_template('register.html')\n"
      ]
    },
    {
      "cell_type": "code",
      "execution_count": null,
      "metadata": {
        "id": "6V4UWsWRHcJY"
      },
      "outputs": [],
      "source": [
        "# 8. How do you manage sessions in Flask?\n",
        "\n",
        "from flask import Flask, session, request\n",
        "\n",
        "app = Flask(__name__)\n",
        "app.secret_key = 'your-secret-key-here'\n",
        "\n",
        "@app.route('/login', methods=['POST'])\n",
        "def login():\n",
        "    session['username'] = request.form['username']\n",
        "    session['logged_in'] = True\n",
        "    return 'Logged in!'\n",
        "\n",
        "@app.route('/logout')\n",
        "def logout():\n",
        "    session.pop('username', None)\n",
        "    session.pop('logged_in', None)\n",
        "    return 'Logged out!'\n",
        "\n",
        "@app.route('/profile')\n",
        "def profile():\n",
        "    if 'logged_in' in session:\n",
        "        return f\"Welcome {session['username']}\"\n",
        "    return 'Please log in first'"
      ]
    },
    {
      "cell_type": "code",
      "execution_count": null,
      "metadata": {
        "id": "vzt_31F5IX7l"
      },
      "outputs": [],
      "source": [
        "# 9. How do you redirect to a different route in Flask?\n",
        "from flask import Flask, redirect, url_for\n",
        "\n",
        "app = Flask(__name__)\n",
        "\n",
        "@app.route('/')\n",
        "def index():\n",
        "    return redirect(url_for('login'))  # Redirects to /login\n",
        "\n",
        "@app.route('/login')\n",
        "def login():\n",
        "    return 'This is login page'\n"
      ]
    },
    {
      "cell_type": "code",
      "execution_count": null,
      "metadata": {
        "id": "U24o1na7ue52"
      },
      "outputs": [],
      "source": [
        "# 10. How do you handle errors in Flask (e.g., 404)?\n",
        "\n",
        "@app.errorhandler(404)\n",
        "def page_not_found(e):\n",
        "    return 'Page not found', 404\n",
        "\n"
      ]
    },
    {
      "cell_type": "code",
      "execution_count": null,
      "metadata": {
        "id": "2nSY5tOzu4vP"
      },
      "outputs": [],
      "source": [
        "# 11. How do you structure a Flask app using Blueprints?\n",
        "\n",
        "from flask import Blueprint\n",
        "\n",
        "auth_bp = Blueprint('auth', __name__, url_prefix='/auth')\n",
        "\n",
        "@auth_bp.route('/login')\n",
        "def login():\n",
        "    return \"Login Page\"\n",
        "\n",
        "@auth_bp.route('/logout')\n",
        "def logout():\n",
        "    return \"Logout Page\"\n"
      ]
    },
    {
      "cell_type": "code",
      "execution_count": null,
      "metadata": {
        "id": "gOyBnf6jvXYb"
      },
      "outputs": [],
      "source": [
        "# 12. How do you define a custom Jinja filter in Flask?\n",
        "\n",
        "from flask import Flask, render_template\n",
        "\n",
        "app = Flask(__name__)\n",
        "\n",
        "@app.template_filter('custom_filter')\n",
        "def custom_filter(value):\n",
        "    return value.upper()\n",
        "\n"
      ]
    },
    {
      "cell_type": "code",
      "execution_count": null,
      "metadata": {
        "id": "TSV5550uvmc6"
      },
      "outputs": [],
      "source": [
        "# 13.How can you redirect with query parameters in Flask?\n",
        "\n",
        "from flask import Flask, redirect, url_for, request\n",
        "\n",
        "app = Flask(__name__)\n",
        "\n",
        "@app.route('/login')\n",
        "def login():\n",
        "    name = request.args.get('name')\n",
        "    return redirect(url_for('home', name=name))\n",
        "\n",
        "@app.route('/home')\n",
        "def home():\n",
        "    name = request.args.get('name')\n",
        "    return f'Welcome home, {name}!'\n",
        "\n"
      ]
    },
    {
      "cell_type": "code",
      "execution_count": null,
      "metadata": {
        "id": "ltz_dG_pxtSz"
      },
      "outputs": [],
      "source": [
        "# 14.How do you return JSON responses in Flask?\n",
        "\n",
        "from flask import jsonify\n",
        "\n",
        "@app.route('/api/data')\n",
        "def data():\n",
        "    return jsonify({\"name\": \"Alice\", \"age\": 30})\n"
      ]
    },
    {
      "cell_type": "code",
      "execution_count": null,
      "metadata": {
        "id": "nQ7SweAHw8bj"
      },
      "outputs": [],
      "source": [
        "# 15. How do you capture URL parameters in Flask?\n",
        "\n",
        "from flask import Flask, request\n",
        "\n",
        "app = Flask(__name__)\n",
        "\n",
        "@app.route('/user/<username>')\n",
        "def show_user_profile(username):\n",
        "    return f'User {username}'"
      ]
    }
  ],
  "metadata": {
    "colab": {
      "provenance": []
    },
    "kernelspec": {
      "display_name": "Python 3",
      "name": "python3"
    },
    "language_info": {
      "name": "python"
    }
  },
  "nbformat": 4,
  "nbformat_minor": 0
}